{
 "cells": [
  {
   "cell_type": "markdown",
   "metadata": {},
   "source": [
    "# 实践练习 – 预处理\n",
    "\n",
    "预处理的第一条规则是：**了解您的数据！**\n",
    "\n",
    "因此，您需要从多个方面和角度了解您的数据，将原始数据转换为已处理数据的状态，以供模型使用。\n",
    "\n",
    "建议使用 **TBLF** 方法：\n",
    "+ **尝试：**了解您的问题（在这里指的是了解您的数据）\n",
    "+ **是否损坏？：**什么损坏了？ （您是否发现数据出现问题）\n",
    "+ **了解：**为什么出现问题？ （数据存在哪些问题？ 如何解决这些问题？）\n",
    "+ **修复：**解决问题（怎么做才能为出现问题的数据提供可接受的解决方案？）"
   ]
  },
  {
   "cell_type": "markdown",
   "metadata": {},
   "source": [
    "## 业务场景\n",
    "您负责预处理公司要在新机器学习模型中使用的数据。该模型将基于各种来源（包括研究人员、 Web 抓取和出版商）的期刊/出版信息，来预测期刊的平均影响力。\n",
    "\n",
    "您已经收到了与要解决的业务问题相关的原始数据。您的任务是使用一些描述性统计信息来更好地理解数据。了解数据之后，您需要进行清理并重塑。您将在模型中使用处理过的最终数据集。"
   ]
  },
  {
   "cell_type": "markdown",
   "metadata": {},
   "source": [
    "## 学习目标\n",
    "1. 通过使用描述性统计信息分析数据，来了解业务场景和相应的数据集\n",
    "2. 使用可视化工具为此分析提供支持： \n",
    "    – 散点图，用于发现特征之间的相关性 \n",
    "    – 箱线图和直方图，用于了解数据分布\n",
    "3. 使用统计工具来支持以前的分析，例如使用相关矩阵来量化各种关系\n",
    "4. 根据分析结论，通过以下方法为模型准备处理后的数据集：\n",
    "    – 处理异常值 \n",
    "    – 处理缺失值\n",
    "    – 清理数据"
   ]
  },
  {
   "cell_type": "code",
   "execution_count": 1,
   "metadata": {},
   "outputs": [],
   "source": [
    "import pandas as pd\n",
    "import numpy as np\n",
    "from matplotlib import pyplot as plt\n",
    "import seaborn as sns\n",
    "%matplotlib inline\n",
    "pd.set_option('display.max_colwidth', -1)"
   ]
  },
  {
   "cell_type": "markdown",
   "metadata": {},
   "source": [
    "## 数据集 \n",
    "数据来自多个来源，包括研究人员、Web 抓取和出版商。数据已经过处理，适合我们的预处理任务。"
   ]
  },
  {
   "cell_type": "markdown",
   "metadata": {},
   "source": [
    "## 数据架构\n",
    "一个有关期刊/出版商信息的数据集，包含预估的文章影响分数：\n",
    "+ journal_name：期刊名称\n",
    "'+ issn：唯一出版代码\n",
    "+ citation_count_sum：每份期刊的引用次数总和 \n",
    "+ paper_count_sum：每份期刊的论文数总和\n",
    "+ avg_cites_per_paper：每篇论文的平均引用次数\n",
    "+ ranking：为练习创建的人工标签（可能的值：A、B、C、D）\n",
    "+ proj_ai：预计的平均影响力"
   ]
  },
  {
   "cell_type": "markdown",
   "metadata": {},
   "source": [
    "首先要加载文件。"
   ]
  },
  {
   "cell_type": "code",
   "execution_count": 2,
   "metadata": {},
   "outputs": [],
   "source": [
    "df_journals = pd.read_csv(\"estimated-article-influence-scores-Exerc2.csv\", sep=\";\")\n",
    "del df_journals[\"Unnamed: 0\"]"
   ]
  },
  {
   "cell_type": "markdown",
   "metadata": {},
   "source": [
    "## 粗略浏览数据\n",
    "\n",
    "#### 了解\n",
    "您的数据中有多少特征？"
   ]
  },
  {
   "cell_type": "code",
   "execution_count": 3,
   "metadata": {},
   "outputs": [
    {
     "name": "stdout",
     "output_type": "stream",
     "text": [
      "Number of features: 7\n"
     ]
    }
   ],
   "source": [
    "print(\"Number of features: {}\".format(df_journals.shape[1]))"
   ]
  },
  {
   "cell_type": "markdown",
   "metadata": {},
   "source": [
    "您有多少样本？"
   ]
  },
  {
   "cell_type": "code",
   "execution_count": 4,
   "metadata": {},
   "outputs": [
    {
     "name": "stdout",
     "output_type": "stream",
     "text": [
      "Number of samples: 3615\n"
     ]
    }
   ],
   "source": [
    "print(\"Number of samples: {}\".format(df_journals.shape[0]))"
   ]
  },
  {
   "cell_type": "markdown",
   "metadata": {},
   "source": [
    "> ### 问题 1\n",
    "> #### 尝试\n",
    "> 打印前 10 行，看看数据是什么样的。对您的数据集应用 `head` 函数（[文档](https://pandas.pydata.org/pandas-docs/stable/reference/api/pandas.DataFrame.head.html?highlight=head#pandas.DataFrame.head）。"
   ]
  },
  {
   "cell_type": "code",
   "execution_count": 5,
   "metadata": {},
   "outputs": [
    {
     "data": {
      "text/html": [
       "<div>\n",
       "<style scoped>\n",
       "    .dataframe tbody tr th:only-of-type {\n",
       "        vertical-align: middle;\n",
       "    }\n",
       "\n",
       "    .dataframe tbody tr th {\n",
       "        vertical-align: top;\n",
       "    }\n",
       "\n",
       "    .dataframe thead th {\n",
       "        text-align: right;\n",
       "    }\n",
       "</style>\n",
       "<table border=\"1\" class=\"dataframe\">\n",
       "  <thead>\n",
       "    <tr style=\"text-align: right;\">\n",
       "      <th></th>\n",
       "      <th>issn</th>\n",
       "      <th>journal_name</th>\n",
       "      <th>citation_count_sum</th>\n",
       "      <th>paper_count_sum</th>\n",
       "      <th>avg_cites_per_paper</th>\n",
       "      <th>ranking</th>\n",
       "      <th>proj_ai</th>\n",
       "    </tr>\n",
       "  </thead>\n",
       "  <tbody>\n",
       "    <tr>\n",
       "      <th>0</th>\n",
       "      <td>2092-6731</td>\n",
       "      <td>3d research</td>\n",
       "      <td>151.0</td>\n",
       "      <td>106.0</td>\n",
       "      <td>1.424528</td>\n",
       "      <td>D</td>\n",
       "      <td>0.290</td>\n",
       "    </tr>\n",
       "    <tr>\n",
       "      <th>1</th>\n",
       "      <td>1530-9932</td>\n",
       "      <td>aaps pharmscitech</td>\n",
       "      <td>2208.0</td>\n",
       "      <td>801.0</td>\n",
       "      <td>2.756554</td>\n",
       "      <td>D</td>\n",
       "      <td>0.665</td>\n",
       "    </tr>\n",
       "    <tr>\n",
       "      <th>2</th>\n",
       "      <td>1687-0409</td>\n",
       "      <td>abstract and applied analysis</td>\n",
       "      <td>3005.0</td>\n",
       "      <td>2923.0</td>\n",
       "      <td>1.028053</td>\n",
       "      <td>B</td>\n",
       "      <td>0.192</td>\n",
       "    </tr>\n",
       "    <tr>\n",
       "      <th>3</th>\n",
       "      <td>1545-7230</td>\n",
       "      <td>academic psychiatry</td>\n",
       "      <td>537.0</td>\n",
       "      <td>490.0</td>\n",
       "      <td>1.095918</td>\n",
       "      <td>NaN</td>\n",
       "      <td>0.208</td>\n",
       "    </tr>\n",
       "    <tr>\n",
       "      <th>4</th>\n",
       "      <td>1936-4709</td>\n",
       "      <td>academic questions</td>\n",
       "      <td>40.0</td>\n",
       "      <td>67.0</td>\n",
       "      <td>0.597015</td>\n",
       "      <td>A</td>\n",
       "      <td>0.097</td>\n",
       "    </tr>\n",
       "    <tr>\n",
       "      <th>5</th>\n",
       "      <td>1432-0517</td>\n",
       "      <td>accreditation and quality assurance</td>\n",
       "      <td>255.0</td>\n",
       "      <td>331.0</td>\n",
       "      <td>0.770393</td>\n",
       "      <td>A</td>\n",
       "      <td>0.134</td>\n",
       "    </tr>\n",
       "    <tr>\n",
       "      <th>6</th>\n",
       "      <td>1839-2571</td>\n",
       "      <td>acoustics australia</td>\n",
       "      <td>30.0</td>\n",
       "      <td>25.0</td>\n",
       "      <td>1.200000</td>\n",
       "      <td>D</td>\n",
       "      <td>0.234</td>\n",
       "    </tr>\n",
       "    <tr>\n",
       "      <th>7</th>\n",
       "      <td>2199-6067</td>\n",
       "      <td>acrocephalus</td>\n",
       "      <td>9.0</td>\n",
       "      <td>15.0</td>\n",
       "      <td>0.600000</td>\n",
       "      <td>C</td>\n",
       "      <td>0.098</td>\n",
       "    </tr>\n",
       "    <tr>\n",
       "      <th>8</th>\n",
       "      <td>1846-0453</td>\n",
       "      <td>acta adriatica</td>\n",
       "      <td>28.0</td>\n",
       "      <td>37.0</td>\n",
       "      <td>0.756757</td>\n",
       "      <td>NaN</td>\n",
       "      <td>0.131</td>\n",
       "    </tr>\n",
       "    <tr>\n",
       "      <th>9</th>\n",
       "      <td>1854-1941</td>\n",
       "      <td>acta agriculturae slovenica</td>\n",
       "      <td>71.0</td>\n",
       "      <td>97.0</td>\n",
       "      <td>0.731959</td>\n",
       "      <td>C</td>\n",
       "      <td>0.125</td>\n",
       "    </tr>\n",
       "  </tbody>\n",
       "</table>\n",
       "</div>"
      ],
      "text/plain": [
       "        issn                         journal_name  citation_count_sum  \\\n",
       "0  2092-6731  3d research                          151.0                \n",
       "1  1530-9932  aaps pharmscitech                    2208.0               \n",
       "2  1687-0409  abstract and applied analysis        3005.0               \n",
       "3  1545-7230  academic psychiatry                  537.0                \n",
       "4  1936-4709  academic questions                   40.0                 \n",
       "5  1432-0517  accreditation and quality assurance  255.0                \n",
       "6  1839-2571  acoustics australia                  30.0                 \n",
       "7  2199-6067  acrocephalus                         9.0                  \n",
       "8  1846-0453  acta adriatica                       28.0                 \n",
       "9  1854-1941  acta agriculturae slovenica          71.0                 \n",
       "\n",
       "   paper_count_sum  avg_cites_per_paper ranking  proj_ai  \n",
       "0  106.0            1.424528             D       0.290    \n",
       "1  801.0            2.756554             D       0.665    \n",
       "2  2923.0           1.028053             B       0.192    \n",
       "3  490.0            1.095918             NaN     0.208    \n",
       "4  67.0             0.597015             A       0.097    \n",
       "5  331.0            0.770393             A       0.134    \n",
       "6  25.0             1.200000             D       0.234    \n",
       "7  15.0             0.600000             C       0.098    \n",
       "8  37.0             0.756757             NaN     0.131    \n",
       "9  97.0             0.731959             C       0.125    "
      ]
     },
     "execution_count": 5,
     "metadata": {},
     "output_type": "execute_result"
    }
   ],
   "source": [
    "# 在此处输入代码\n",
    "df_journals.head(10)"
   ]
  },
  {
   "cell_type": "markdown",
   "metadata": {},
   "source": [
    "## 处理缺失值\n",
    "#### 了解\n",
    "检查每列缺失多少个值。"
   ]
  },
  {
   "cell_type": "markdown",
   "metadata": {},
   "source": [
    "对于数据集中存在缺失值的每个单元格，**isnull()** 命令会返回 **True**。"
   ]
  },
  {
   "cell_type": "code",
   "execution_count": 6,
   "metadata": {},
   "outputs": [
    {
     "data": {
      "text/html": [
       "<div>\n",
       "<style scoped>\n",
       "    .dataframe tbody tr th:only-of-type {\n",
       "        vertical-align: middle;\n",
       "    }\n",
       "\n",
       "    .dataframe tbody tr th {\n",
       "        vertical-align: top;\n",
       "    }\n",
       "\n",
       "    .dataframe thead th {\n",
       "        text-align: right;\n",
       "    }\n",
       "</style>\n",
       "<table border=\"1\" class=\"dataframe\">\n",
       "  <thead>\n",
       "    <tr style=\"text-align: right;\">\n",
       "      <th></th>\n",
       "      <th>issn</th>\n",
       "      <th>journal_name</th>\n",
       "      <th>citation_count_sum</th>\n",
       "      <th>paper_count_sum</th>\n",
       "      <th>avg_cites_per_paper</th>\n",
       "      <th>ranking</th>\n",
       "      <th>proj_ai</th>\n",
       "    </tr>\n",
       "  </thead>\n",
       "  <tbody>\n",
       "    <tr>\n",
       "      <th>0</th>\n",
       "      <td>False</td>\n",
       "      <td>False</td>\n",
       "      <td>False</td>\n",
       "      <td>False</td>\n",
       "      <td>False</td>\n",
       "      <td>False</td>\n",
       "      <td>False</td>\n",
       "    </tr>\n",
       "    <tr>\n",
       "      <th>1</th>\n",
       "      <td>False</td>\n",
       "      <td>False</td>\n",
       "      <td>False</td>\n",
       "      <td>False</td>\n",
       "      <td>False</td>\n",
       "      <td>False</td>\n",
       "      <td>False</td>\n",
       "    </tr>\n",
       "    <tr>\n",
       "      <th>2</th>\n",
       "      <td>False</td>\n",
       "      <td>False</td>\n",
       "      <td>False</td>\n",
       "      <td>False</td>\n",
       "      <td>False</td>\n",
       "      <td>False</td>\n",
       "      <td>False</td>\n",
       "    </tr>\n",
       "    <tr>\n",
       "      <th>3</th>\n",
       "      <td>False</td>\n",
       "      <td>False</td>\n",
       "      <td>False</td>\n",
       "      <td>False</td>\n",
       "      <td>False</td>\n",
       "      <td>True</td>\n",
       "      <td>False</td>\n",
       "    </tr>\n",
       "    <tr>\n",
       "      <th>4</th>\n",
       "      <td>False</td>\n",
       "      <td>False</td>\n",
       "      <td>False</td>\n",
       "      <td>False</td>\n",
       "      <td>False</td>\n",
       "      <td>False</td>\n",
       "      <td>False</td>\n",
       "    </tr>\n",
       "    <tr>\n",
       "      <th>5</th>\n",
       "      <td>False</td>\n",
       "      <td>False</td>\n",
       "      <td>False</td>\n",
       "      <td>False</td>\n",
       "      <td>False</td>\n",
       "      <td>False</td>\n",
       "      <td>False</td>\n",
       "    </tr>\n",
       "    <tr>\n",
       "      <th>6</th>\n",
       "      <td>False</td>\n",
       "      <td>False</td>\n",
       "      <td>False</td>\n",
       "      <td>False</td>\n",
       "      <td>False</td>\n",
       "      <td>False</td>\n",
       "      <td>False</td>\n",
       "    </tr>\n",
       "    <tr>\n",
       "      <th>7</th>\n",
       "      <td>False</td>\n",
       "      <td>False</td>\n",
       "      <td>False</td>\n",
       "      <td>False</td>\n",
       "      <td>False</td>\n",
       "      <td>False</td>\n",
       "      <td>False</td>\n",
       "    </tr>\n",
       "    <tr>\n",
       "      <th>8</th>\n",
       "      <td>False</td>\n",
       "      <td>False</td>\n",
       "      <td>False</td>\n",
       "      <td>False</td>\n",
       "      <td>False</td>\n",
       "      <td>True</td>\n",
       "      <td>False</td>\n",
       "    </tr>\n",
       "    <tr>\n",
       "      <th>9</th>\n",
       "      <td>False</td>\n",
       "      <td>False</td>\n",
       "      <td>False</td>\n",
       "      <td>False</td>\n",
       "      <td>False</td>\n",
       "      <td>False</td>\n",
       "      <td>False</td>\n",
       "    </tr>\n",
       "  </tbody>\n",
       "</table>\n",
       "</div>"
      ],
      "text/plain": [
       "    issn  journal_name  citation_count_sum  paper_count_sum  \\\n",
       "0  False  False         False               False             \n",
       "1  False  False         False               False             \n",
       "2  False  False         False               False             \n",
       "3  False  False         False               False             \n",
       "4  False  False         False               False             \n",
       "5  False  False         False               False             \n",
       "6  False  False         False               False             \n",
       "7  False  False         False               False             \n",
       "8  False  False         False               False             \n",
       "9  False  False         False               False             \n",
       "\n",
       "   avg_cites_per_paper  ranking  proj_ai  \n",
       "0  False                False    False    \n",
       "1  False                False    False    \n",
       "2  False                False    False    \n",
       "3  False                True     False    \n",
       "4  False                False    False    \n",
       "5  False                False    False    \n",
       "6  False                False    False    \n",
       "7  False                False    False    \n",
       "8  False                True     False    \n",
       "9  False                False    False    "
      ]
     },
     "execution_count": 6,
     "metadata": {},
     "output_type": "execute_result"
    }
   ],
   "source": [
    "df_journals.isnull().head(10)"
   ]
  },
  {
   "cell_type": "markdown",
   "metadata": {},
   "source": [
    "#### 是否损坏？\n",
    "这种可视化对于大型数据集来说是不切实际的。您可以尝试对每一列的所有行求和。由于上述所有值都是布尔值，因此，如果按列（特征）来求和，您将得到 **true** 值的数量，即每个特征的缺失值的数量。"
   ]
  },
  {
   "cell_type": "markdown",
   "metadata": {},
   "source": [
    "> ### 问题 2\n",
    "> #### 修复\n",
    "> 如上所述，对您的数据集应用 **.isnull()** 函数，但将得到的结果与 **.sum()** 函数连接起来，以显示每个特征的缺失值的数量。<br/>\n",
    "\n",
    ">`isnull`（[文档](https://pandas.pydata.org/pandas-docs/stable/reference/api/pandas.DataFrame.isnull.html?highlight=isnull#pandas.DataFrame.isnull)）<br/>\n",
    ">`sum`（[文档](https://pandas.pydata.org/pandas-docs/stable/reference/api/pandas.DataFrame.sum.html?highlight=sum#pandas.DataFrame.sum)）"
   ]
  },
  {
   "cell_type": "code",
   "execution_count": 7,
   "metadata": {},
   "outputs": [
    {
     "data": {
      "text/plain": [
       "issn                   0  \n",
       "journal_name           0  \n",
       "citation_count_sum     12 \n",
       "paper_count_sum        12 \n",
       "avg_cites_per_paper    12 \n",
       "ranking                633\n",
       "proj_ai                12 \n",
       "dtype: int64"
      ]
     },
     "execution_count": 7,
     "metadata": {},
     "output_type": "execute_result"
    }
   ],
   "source": [
    "# 在此处输入代码\n",
    "df_journals.isnull().sum()"
   ]
  },
  {
   "cell_type": "markdown",
   "metadata": {},
   "source": [
    "#### 了解\n",
    "您观察到数据集中存在缺失值。"
   ]
  },
  {
   "cell_type": "markdown",
   "metadata": {},
   "source": [
    "缺失值是一个非常重要的问题。大多数模型都无法很好地处理缺失值问题。\n",
    "\n",
    "您可以删除缺失值或替换这些值。这两种选择都有优缺点，具体取决于特定特征对您训练作业的重要性，以及您是否可以删除那些缺失值等。\n",
    "\n",
    "以下命令仅筛选具有 `any`（[文档](https://pandas.pydata.org/pandas-docs/stable/reference/api/pandas.DataFrame.any.html?highlight=any#pandas.DataFrame.any)）缺失值的行。将显示前 10 行。"
   ]
  },
  {
   "cell_type": "code",
   "execution_count": 8,
   "metadata": {
    "scrolled": false
   },
   "outputs": [
    {
     "data": {
      "text/html": [
       "<div>\n",
       "<style scoped>\n",
       "    .dataframe tbody tr th:only-of-type {\n",
       "        vertical-align: middle;\n",
       "    }\n",
       "\n",
       "    .dataframe tbody tr th {\n",
       "        vertical-align: top;\n",
       "    }\n",
       "\n",
       "    .dataframe thead th {\n",
       "        text-align: right;\n",
       "    }\n",
       "</style>\n",
       "<table border=\"1\" class=\"dataframe\">\n",
       "  <thead>\n",
       "    <tr style=\"text-align: right;\">\n",
       "      <th></th>\n",
       "      <th>issn</th>\n",
       "      <th>journal_name</th>\n",
       "      <th>citation_count_sum</th>\n",
       "      <th>paper_count_sum</th>\n",
       "      <th>avg_cites_per_paper</th>\n",
       "      <th>ranking</th>\n",
       "      <th>proj_ai</th>\n",
       "    </tr>\n",
       "  </thead>\n",
       "  <tbody>\n",
       "    <tr>\n",
       "      <th>3</th>\n",
       "      <td>1545-7230</td>\n",
       "      <td>academic psychiatry</td>\n",
       "      <td>537.0</td>\n",
       "      <td>490.0</td>\n",
       "      <td>1.095918</td>\n",
       "      <td>NaN</td>\n",
       "      <td>0.208</td>\n",
       "    </tr>\n",
       "    <tr>\n",
       "      <th>8</th>\n",
       "      <td>1846-0453</td>\n",
       "      <td>acta adriatica</td>\n",
       "      <td>28.0</td>\n",
       "      <td>37.0</td>\n",
       "      <td>0.756757</td>\n",
       "      <td>NaN</td>\n",
       "      <td>0.131</td>\n",
       "    </tr>\n",
       "    <tr>\n",
       "      <th>18</th>\n",
       "      <td>1614-7065</td>\n",
       "      <td>acta chimica sinica</td>\n",
       "      <td>619.0</td>\n",
       "      <td>537.0</td>\n",
       "      <td>1.152700</td>\n",
       "      <td>NaN</td>\n",
       "      <td>0.222</td>\n",
       "    </tr>\n",
       "    <tr>\n",
       "      <th>25</th>\n",
       "      <td>1958-5454</td>\n",
       "      <td>acta endoscopica</td>\n",
       "      <td>31.0</td>\n",
       "      <td>70.0</td>\n",
       "      <td>0.442857</td>\n",
       "      <td>NaN</td>\n",
       "      <td>0.067</td>\n",
       "    </tr>\n",
       "    <tr>\n",
       "      <th>38</th>\n",
       "      <td>0386-300X</td>\n",
       "      <td>acta medica okayama</td>\n",
       "      <td>257.0</td>\n",
       "      <td>228.0</td>\n",
       "      <td>1.127193</td>\n",
       "      <td>NaN</td>\n",
       "      <td>0.216</td>\n",
       "    </tr>\n",
       "    <tr>\n",
       "      <th>46</th>\n",
       "      <td>1745-3674</td>\n",
       "      <td>acta orthopaedica</td>\n",
       "      <td>2364.0</td>\n",
       "      <td>611.0</td>\n",
       "      <td>3.869067</td>\n",
       "      <td>NaN</td>\n",
       "      <td>1.019</td>\n",
       "    </tr>\n",
       "    <tr>\n",
       "      <th>60</th>\n",
       "      <td>0303-464X</td>\n",
       "      <td>acta reumatologica portuguesa</td>\n",
       "      <td>213.0</td>\n",
       "      <td>205.0</td>\n",
       "      <td>1.039024</td>\n",
       "      <td>NaN</td>\n",
       "      <td>0.195</td>\n",
       "    </tr>\n",
       "    <tr>\n",
       "      <th>70</th>\n",
       "      <td>1940-0640</td>\n",
       "      <td>addiction science &amp; clinical practice</td>\n",
       "      <td>294.0</td>\n",
       "      <td>133.0</td>\n",
       "      <td>2.210526</td>\n",
       "      <td>NaN</td>\n",
       "      <td>0.504</td>\n",
       "    </tr>\n",
       "    <tr>\n",
       "      <th>91</th>\n",
       "      <td>1687-711X</td>\n",
       "      <td>advances in fuzzy systems</td>\n",
       "      <td>128.0</td>\n",
       "      <td>107.0</td>\n",
       "      <td>1.196262</td>\n",
       "      <td>NaN</td>\n",
       "      <td>0.233</td>\n",
       "    </tr>\n",
       "    <tr>\n",
       "      <th>95</th>\n",
       "      <td>1687-7365</td>\n",
       "      <td>advances in high energy physics</td>\n",
       "      <td>791.0</td>\n",
       "      <td>373.0</td>\n",
       "      <td>2.120643</td>\n",
       "      <td>NaN</td>\n",
       "      <td>0.478</td>\n",
       "    </tr>\n",
       "  </tbody>\n",
       "</table>\n",
       "</div>"
      ],
      "text/plain": [
       "         issn                           journal_name  citation_count_sum  \\\n",
       "3   1545-7230  academic psychiatry                    537.0                \n",
       "8   1846-0453  acta adriatica                         28.0                 \n",
       "18  1614-7065  acta chimica sinica                    619.0                \n",
       "25  1958-5454  acta endoscopica                       31.0                 \n",
       "38  0386-300X  acta medica okayama                    257.0                \n",
       "46  1745-3674  acta orthopaedica                      2364.0               \n",
       "60  0303-464X  acta reumatologica portuguesa          213.0                \n",
       "70  1940-0640  addiction science & clinical practice  294.0                \n",
       "91  1687-711X  advances in fuzzy systems              128.0                \n",
       "95  1687-7365  advances in high energy physics        791.0                \n",
       "\n",
       "    paper_count_sum  avg_cites_per_paper ranking  proj_ai  \n",
       "3   490.0            1.095918             NaN     0.208    \n",
       "8   37.0             0.756757             NaN     0.131    \n",
       "18  537.0            1.152700             NaN     0.222    \n",
       "25  70.0             0.442857             NaN     0.067    \n",
       "38  228.0            1.127193             NaN     0.216    \n",
       "46  611.0            3.869067             NaN     1.019    \n",
       "60  205.0            1.039024             NaN     0.195    \n",
       "70  133.0            2.210526             NaN     0.504    \n",
       "91  107.0            1.196262             NaN     0.233    \n",
       "95  373.0            2.120643             NaN     0.478    "
      ]
     },
     "execution_count": 8,
     "metadata": {},
     "output_type": "execute_result"
    }
   ],
   "source": [
    "df_journals_null_data = df_journals[df_journals.isnull().any(axis=1)]\n",
    "df_journals_null_data.head(10)"
   ]
  },
  {
   "cell_type": "markdown",
   "metadata": {},
   "source": [
    "## 处理缺失值\n",
    "#### 修复\n",
    "假设您决定删除存在缺失值的行。\n",
    "\n",
    "您可以通过对数据集应用 `dropna` 函数（[文档](https://pandas.pydata.org/pandas-docs/stable/reference/api/pandas.DataFrame.dropna.html?highlight=dropna#pandas.DataFrame.dropna)）来删除缺失值。将结果保存在名为 *df_journals_no_miss** 的新数据集中。然后使用 `shape` 函数 ([文档](https://pandas.pydata.org/pandas-docs/stable/reference/api/pandas.DataFrame.shape.html?highlight=shape#pandas.DataFrame.shape)) 来确认数据集已经删除了这些行。"
   ]
  },
  {
   "cell_type": "markdown",
   "metadata": {},
   "source": [
    "#### 了解\n",
    "剩下多少行？"
   ]
  },
  {
   "cell_type": "code",
   "execution_count": 9,
   "metadata": {},
   "outputs": [
    {
     "data": {
      "text/plain": [
       "(2972, 7)"
      ]
     },
     "execution_count": 9,
     "metadata": {},
     "output_type": "execute_result"
    }
   ],
   "source": [
    "df_journals_no_miss = df_journals.dropna()\n",
    "df_journals_no_miss.shape"
   ]
  },
  {
   "cell_type": "markdown",
   "metadata": {},
   "source": [
    "#### 了解\n",
    "确认您已删除所有缺失值。"
   ]
  },
  {
   "cell_type": "code",
   "execution_count": 10,
   "metadata": {},
   "outputs": [
    {
     "data": {
      "text/plain": [
       "issn                   False\n",
       "journal_name           False\n",
       "citation_count_sum     False\n",
       "paper_count_sum        False\n",
       "avg_cites_per_paper    False\n",
       "ranking                False\n",
       "proj_ai                False\n",
       "dtype: bool"
      ]
     },
     "execution_count": 10,
     "metadata": {},
     "output_type": "execute_result"
    }
   ],
   "source": [
    "df_journals_no_miss.isna().any()"
   ]
  },
  {
   "cell_type": "markdown",
   "metadata": {},
   "source": [
    "现在，假设您无法删除存在缺失值的行，可能是因为您不想缩小本来就很小的数据集。"
   ]
  },
  {
   "cell_type": "markdown",
   "metadata": {},
   "source": [
    "## 替换数值\n",
    "#### 了解\n",
    "替换数值的一种方法是要考虑特征（列）值的平均值。以下命令可以计算数据集中所有数值特征的平均值。"
   ]
  },
  {
   "cell_type": "code",
   "execution_count": 11,
   "metadata": {},
   "outputs": [
    {
     "name": "stdout",
     "output_type": "stream",
     "text": [
      "citation_count_sum_MEAN: 1446.713849569803\n",
      "paper_count_sum_MEAN: 509.67110741049123\n",
      "avg_cites_per_paper_MEAN: 2.118970176206784\n",
      "proj_ai_MEAN: 0.5165542603386052\n"
     ]
    }
   ],
   "source": [
    "citation_count_sum_MEAN = df_journals[\"citation_count_sum\"].mean()\n",
    "paper_count_sum_MEAN = df_journals[\"paper_count_sum\"].mean()\n",
    "avg_cites_per_paper_MEAN = df_journals[\"avg_cites_per_paper\"].mean()\n",
    "proj_ai_MEAN = df_journals[\"proj_ai\"].mean()\n",
    "print(\"citation_count_sum_MEAN: {}\".format(citation_count_sum_MEAN))\n",
    "print(\"paper_count_sum_MEAN: {}\".format(paper_count_sum_MEAN))\n",
    "print(\"avg_cites_per_paper_MEAN: {}\".format(avg_cites_per_paper_MEAN))\n",
    "print(\"proj_ai_MEAN: {}\".format(proj_ai_MEAN))"
   ]
  },
  {
   "cell_type": "markdown",
   "metadata": {},
   "source": [
    "以下命令将使用计算出的特征平均值来更新每个缺失值。\n",
    "\n",
    "**请注意：**`inplace` 子句（[文档](https://pandas.pydata.org/pandas-docs/stable/reference/api/pandas.DataFrame.fillna.html?highlight=fillna#pandas.DataFrame.fillna)）意味着更新已在原始数据集上生效，因此您无需将结果归到新数据集。"
   ]
  },
  {
   "cell_type": "code",
   "execution_count": 12,
   "metadata": {},
   "outputs": [],
   "source": [
    "df_journals[\"citation_count_sum\"].fillna(citation_count_sum_MEAN, inplace=True)\n",
    "df_journals[\"paper_count_sum\"].fillna(paper_count_sum_MEAN, inplace=True)\n",
    "df_journals[\"avg_cites_per_paper\"].fillna(avg_cites_per_paper_MEAN, inplace=True)\n",
    "df_journals[\"proj_ai\"].fillna(proj_ai_MEAN, inplace=True)"
   ]
  },
  {
   "cell_type": "markdown",
   "metadata": {},
   "source": [
    "#### 了解\n",
    "确认您已替换所有数值。接下来，您要处理分类值。"
   ]
  },
  {
   "cell_type": "code",
   "execution_count": 13,
   "metadata": {},
   "outputs": [
    {
     "data": {
      "text/plain": [
       "issn                   False\n",
       "journal_name           False\n",
       "citation_count_sum     False\n",
       "paper_count_sum        False\n",
       "avg_cites_per_paper    False\n",
       "ranking                True \n",
       "proj_ai                False\n",
       "dtype: bool"
      ]
     },
     "execution_count": 13,
     "metadata": {},
     "output_type": "execute_result"
    }
   ],
   "source": [
    "df_journals.isna().any()"
   ]
  },
  {
   "cell_type": "markdown",
   "metadata": {},
   "source": [
    "## 替换分类值\n",
    "#### 了解\n",
    "对于分类值替换，一种常见的方法是使用最频繁出现的值（众数）。"
   ]
  },
  {
   "cell_type": "markdown",
   "metadata": {},
   "source": [
    "#### 尝试\n",
    "查看“排名”特征的可能值。\n",
    "\n",
    "Pandas 有一个很有趣的命令，可以显示分类的频率：`value_counts`（[文档](https://pandas.pydata.org/pandas-docs/stable/reference/api/pandas.Series.value_counts.html?highlight=value_counts#pandas.Series.value_counts)）。\n",
    "\n",
    "将此命令应用于数据集中的“排名”特征，以查看它的分类分布。"
   ]
  },
  {
   "cell_type": "code",
   "execution_count": 14,
   "metadata": {},
   "outputs": [
    {
     "data": {
      "text/plain": [
       "D    1222\n",
       "B    590 \n",
       "A    589 \n",
       "C    581 \n",
       "Name: ranking, dtype: int64"
      ]
     },
     "execution_count": 14,
     "metadata": {},
     "output_type": "execute_result"
    }
   ],
   "source": [
    "df_journals[\"ranking\"].value_counts()"
   ]
  },
  {
   "cell_type": "markdown",
   "metadata": {},
   "source": [
    "现在，查看分类特征最频繁出现的值是什么。使用 `mode` 函数（[文档](https://pandas.pydata.org/pandas-docs/stable/reference/api/pandas.DataFrame.mode.html?highlight=mode#pandas.DataFrame.mode)）。\n",
    "\n",
    "**请注意：** 您可以使用 `df_journals [“ ranking”]` 或 `df_journals.ranking` 访问该特征。"
   ]
  },
  {
   "cell_type": "code",
   "execution_count": 15,
   "metadata": {},
   "outputs": [
    {
     "data": {
      "text/plain": [
       "'D'"
      ]
     },
     "execution_count": 15,
     "metadata": {},
     "output_type": "execute_result"
    }
   ],
   "source": [
    "df_journals.ranking.mode()[0]"
   ]
  },
  {
   "cell_type": "markdown",
   "metadata": {},
   "source": [
    "#### 了解\n",
    "该命令返回的最频繁出现的值（众数）是 **D**。"
   ]
  },
  {
   "cell_type": "markdown",
   "metadata": {},
   "source": [
    "使用替换数值特征时所用的相同命令来替换最频繁出现的 **D**。"
   ]
  },
  {
   "cell_type": "code",
   "execution_count": 16,
   "metadata": {},
   "outputs": [],
   "source": [
    "df_journals[\"ranking\"].fillna('D', inplace=True)"
   ]
  },
  {
   "cell_type": "markdown",
   "metadata": {},
   "source": [
    "#### 了解\n",
    "现在，运行以下命令，查看是否还有空值。您现在应该只有 **False** 值。"
   ]
  },
  {
   "cell_type": "code",
   "execution_count": 17,
   "metadata": {},
   "outputs": [
    {
     "data": {
      "text/plain": [
       "issn                   False\n",
       "journal_name           False\n",
       "citation_count_sum     False\n",
       "paper_count_sum        False\n",
       "avg_cites_per_paper    False\n",
       "ranking                False\n",
       "proj_ai                False\n",
       "dtype: bool"
      ]
     },
     "execution_count": 17,
     "metadata": {},
     "output_type": "execute_result"
    }
   ],
   "source": [
    "df_journals.isna().any()"
   ]
  },
  {
   "cell_type": "markdown",
   "metadata": {},
   "source": [
    "#### 了解\n",
    "为了确保将缺失值替换为 D，**value_counts()** 命令应该会显示分类值 **D** 的新数量是原始值和空值数量的总和。"
   ]
  },
  {
   "cell_type": "code",
   "execution_count": 18,
   "metadata": {},
   "outputs": [
    {
     "data": {
      "text/plain": [
       "D    1855\n",
       "B    590 \n",
       "A    589 \n",
       "C    581 \n",
       "Name: ranking, dtype: int64"
      ]
     },
     "execution_count": 18,
     "metadata": {},
     "output_type": "execute_result"
    }
   ],
   "source": [
    "df_journals[\"ranking\"].value_counts()"
   ]
  },
  {
   "cell_type": "markdown",
   "metadata": {},
   "source": [
    "#### 是否损坏？\n",
    "当标签之间的分布显示某些标签的频率比其他标签高得多时，就会出现不平衡的标签。这种情况并不适用于该数据集。"
   ]
  },
  {
   "cell_type": "markdown",
   "metadata": {},
   "source": [
    "## 数值的基本统计信息\n",
    "#### 了解分布\n",
    "##### 尝试\n",
    "计算每列的最小值、最大值、平均值、标准差以及 25% 和 75% 百分位数。使用 `describe` 命令（[文档](https://pandas.pydata.org/pandas-docs/stable/reference/api/pandas.DataFrame.describe.html?highlight=describe#pandas.DataFrame.describe)）。"
   ]
  },
  {
   "cell_type": "code",
   "execution_count": 19,
   "metadata": {},
   "outputs": [
    {
     "data": {
      "text/html": [
       "<div>\n",
       "<style scoped>\n",
       "    .dataframe tbody tr th:only-of-type {\n",
       "        vertical-align: middle;\n",
       "    }\n",
       "\n",
       "    .dataframe tbody tr th {\n",
       "        vertical-align: top;\n",
       "    }\n",
       "\n",
       "    .dataframe thead th {\n",
       "        text-align: right;\n",
       "    }\n",
       "</style>\n",
       "<table border=\"1\" class=\"dataframe\">\n",
       "  <thead>\n",
       "    <tr style=\"text-align: right;\">\n",
       "      <th></th>\n",
       "      <th>citation_count_sum</th>\n",
       "      <th>paper_count_sum</th>\n",
       "      <th>avg_cites_per_paper</th>\n",
       "      <th>proj_ai</th>\n",
       "    </tr>\n",
       "  </thead>\n",
       "  <tbody>\n",
       "    <tr>\n",
       "      <th>count</th>\n",
       "      <td>3615.000000</td>\n",
       "      <td>3615.000000</td>\n",
       "      <td>3615.000000</td>\n",
       "      <td>3615.000000</td>\n",
       "    </tr>\n",
       "    <tr>\n",
       "      <th>mean</th>\n",
       "      <td>1446.713850</td>\n",
       "      <td>509.671107</td>\n",
       "      <td>2.118970</td>\n",
       "      <td>0.516554</td>\n",
       "    </tr>\n",
       "    <tr>\n",
       "      <th>std</th>\n",
       "      <td>7983.573195</td>\n",
       "      <td>1920.708341</td>\n",
       "      <td>1.685032</td>\n",
       "      <td>0.571603</td>\n",
       "    </tr>\n",
       "    <tr>\n",
       "      <th>min</th>\n",
       "      <td>0.000000</td>\n",
       "      <td>1.000000</td>\n",
       "      <td>0.000000</td>\n",
       "      <td>0.000000</td>\n",
       "    </tr>\n",
       "    <tr>\n",
       "      <th>25%</th>\n",
       "      <td>151.000000</td>\n",
       "      <td>107.000000</td>\n",
       "      <td>1.056067</td>\n",
       "      <td>0.199000</td>\n",
       "    </tr>\n",
       "    <tr>\n",
       "      <th>50%</th>\n",
       "      <td>424.000000</td>\n",
       "      <td>240.000000</td>\n",
       "      <td>1.722628</td>\n",
       "      <td>0.368000</td>\n",
       "    </tr>\n",
       "    <tr>\n",
       "      <th>75%</th>\n",
       "      <td>1113.500000</td>\n",
       "      <td>520.500000</td>\n",
       "      <td>2.705021</td>\n",
       "      <td>0.649500</td>\n",
       "    </tr>\n",
       "    <tr>\n",
       "      <th>max</th>\n",
       "      <td>426949.000000</td>\n",
       "      <td>104705.000000</td>\n",
       "      <td>26.318824</td>\n",
       "      <td>11.367000</td>\n",
       "    </tr>\n",
       "  </tbody>\n",
       "</table>\n",
       "</div>"
      ],
      "text/plain": [
       "       citation_count_sum  paper_count_sum  avg_cites_per_paper      proj_ai\n",
       "count  3615.000000         3615.000000      3615.000000          3615.000000\n",
       "mean   1446.713850         509.671107       2.118970             0.516554   \n",
       "std    7983.573195         1920.708341      1.685032             0.571603   \n",
       "min    0.000000            1.000000         0.000000             0.000000   \n",
       "25%    151.000000          107.000000       1.056067             0.199000   \n",
       "50%    424.000000          240.000000       1.722628             0.368000   \n",
       "75%    1113.500000         520.500000       2.705021             0.649500   \n",
       "max    426949.000000       104705.000000    26.318824            11.367000  "
      ]
     },
     "execution_count": 19,
     "metadata": {},
     "output_type": "execute_result"
    }
   ],
   "source": [
    "df_journals.describe()"
   ]
  },
  {
   "cell_type": "markdown",
   "metadata": {},
   "source": [
    "> ### 问题 3\n",
    "绘制“avg_cites_per_paper”特征的分布图。使用 matplotlib 中的 `.plot.hist(bins=100)` 函数绘制每个特征的分布。\n",
    "\n",
    ">`hist`（[文档](https://matplotlib.org/3.1.1/api/_as_gen/matplotlib.pyplot.hist.html?highlight=hist#matplotlib.pyplot.hist)）"
   ]
  },
  {
   "cell_type": "code",
   "execution_count": 20,
   "metadata": {
    "scrolled": false
   },
   "outputs": [
    {
     "data": {
      "text/plain": [
       "<matplotlib.axes._subplots.AxesSubplot at 0x7f9fa23903c8>"
      ]
     },
     "execution_count": 20,
     "metadata": {},
     "output_type": "execute_result"
    },
    {
     "data": {
      "image/png": "[encoded data removed]",
      "text/plain": [
       "<Figure size 432x288 with 1 Axes>"
      ]
     },
     "metadata": {},
     "output_type": "display_data"
    }
   ],
   "source": [
    "# 在此处输入代码\n",
    "df_journals[\"avg_cites_per_paper\"].plot.hist(bins=100)"
   ]
  },
  {
   "cell_type": "markdown",
   "metadata": {},
   "source": [
    "## 箱线图\n",
    "箱线图非常适合发现异常值。我们使用箱线图进行了解。"
   ]
  },
  {
   "cell_type": "markdown",
   "metadata": {},
   "source": [
    ">### 问题 4\n",
    ">#### 尝试\n",
    "> 现在，使用与绘制分布相同的方法，使用 `boxplot` 函数（[箱线图](https://matplotlib.org/3.1.1/api/_as_gen/matplotlib.pyplot.boxplot.html?highlight=boxplot#matplotlib.pyplot.boxplot)）为数字特征“avg_cites_per_paper”绘制箱线图。"
   ]
  },
  {
   "cell_type": "code",
   "execution_count": 21,
   "metadata": {},
   "outputs": [
    {
     "data": {
      "text/plain": [
       "<matplotlib.axes._subplots.AxesSubplot at 0x7f9f9d943be0>"
      ]
     },
     "execution_count": 21,
     "metadata": {},
     "output_type": "execute_result"
    },
    {
     "data": {
      "image/png": "[encoded data removed]",
      "text/plain": [
       "<Figure size 432x288 with 1 Axes>"
      ]
     },
     "metadata": {},
     "output_type": "display_data"
    }
   ],
   "source": [
    "# 在此处输入代码\n",
    "df_journals.boxplot([\"avg_cites_per_paper\"])"
   ]
  },
  {
   "cell_type": "markdown",
   "metadata": {},
   "source": [
    "#### 了解 \n",
    "请注意，箱线图有助于发现异常值。"
   ]
  },
  {
   "cell_type": "markdown",
   "metadata": {},
   "source": [
    "#### 了解\n",
    "现在，我们使用一种更有趣的技术，通过百分位数来删除异常值。\n",
    "\n",
    "要打印数据集数值的百分位数，请使用 **.describe()** 命令。"
   ]
  },
  {
   "cell_type": "code",
   "execution_count": 22,
   "metadata": {},
   "outputs": [
    {
     "data": {
      "text/html": [
       "<div>\n",
       "<style scoped>\n",
       "    .dataframe tbody tr th:only-of-type {\n",
       "        vertical-align: middle;\n",
       "    }\n",
       "\n",
       "    .dataframe tbody tr th {\n",
       "        vertical-align: top;\n",
       "    }\n",
       "\n",
       "    .dataframe thead th {\n",
       "        text-align: right;\n",
       "    }\n",
       "</style>\n",
       "<table border=\"1\" class=\"dataframe\">\n",
       "  <thead>\n",
       "    <tr style=\"text-align: right;\">\n",
       "      <th></th>\n",
       "      <th>citation_count_sum</th>\n",
       "      <th>paper_count_sum</th>\n",
       "      <th>avg_cites_per_paper</th>\n",
       "      <th>proj_ai</th>\n",
       "    </tr>\n",
       "  </thead>\n",
       "  <tbody>\n",
       "    <tr>\n",
       "      <th>count</th>\n",
       "      <td>3615.000000</td>\n",
       "      <td>3615.000000</td>\n",
       "      <td>3615.000000</td>\n",
       "      <td>3615.000000</td>\n",
       "    </tr>\n",
       "    <tr>\n",
       "      <th>mean</th>\n",
       "      <td>1446.713850</td>\n",
       "      <td>509.671107</td>\n",
       "      <td>2.118970</td>\n",
       "      <td>0.516554</td>\n",
       "    </tr>\n",
       "    <tr>\n",
       "      <th>std</th>\n",
       "      <td>7983.573195</td>\n",
       "      <td>1920.708341</td>\n",
       "      <td>1.685032</td>\n",
       "      <td>0.571603</td>\n",
       "    </tr>\n",
       "    <tr>\n",
       "      <th>min</th>\n",
       "      <td>0.000000</td>\n",
       "      <td>1.000000</td>\n",
       "      <td>0.000000</td>\n",
       "      <td>0.000000</td>\n",
       "    </tr>\n",
       "    <tr>\n",
       "      <th>25%</th>\n",
       "      <td>151.000000</td>\n",
       "      <td>107.000000</td>\n",
       "      <td>1.056067</td>\n",
       "      <td>0.199000</td>\n",
       "    </tr>\n",
       "    <tr>\n",
       "      <th>50%</th>\n",
       "      <td>424.000000</td>\n",
       "      <td>240.000000</td>\n",
       "      <td>1.722628</td>\n",
       "      <td>0.368000</td>\n",
       "    </tr>\n",
       "    <tr>\n",
       "      <th>75%</th>\n",
       "      <td>1113.500000</td>\n",
       "      <td>520.500000</td>\n",
       "      <td>2.705021</td>\n",
       "      <td>0.649500</td>\n",
       "    </tr>\n",
       "    <tr>\n",
       "      <th>max</th>\n",
       "      <td>426949.000000</td>\n",
       "      <td>104705.000000</td>\n",
       "      <td>26.318824</td>\n",
       "      <td>11.367000</td>\n",
       "    </tr>\n",
       "  </tbody>\n",
       "</table>\n",
       "</div>"
      ],
      "text/plain": [
       "       citation_count_sum  paper_count_sum  avg_cites_per_paper      proj_ai\n",
       "count  3615.000000         3615.000000      3615.000000          3615.000000\n",
       "mean   1446.713850         509.671107       2.118970             0.516554   \n",
       "std    7983.573195         1920.708341      1.685032             0.571603   \n",
       "min    0.000000            1.000000         0.000000             0.000000   \n",
       "25%    151.000000          107.000000       1.056067             0.199000   \n",
       "50%    424.000000          240.000000       1.722628             0.368000   \n",
       "75%    1113.500000         520.500000       2.705021             0.649500   \n",
       "max    426949.000000       104705.000000    26.318824            11.367000  "
      ]
     },
     "execution_count": 22,
     "metadata": {},
     "output_type": "execute_result"
    }
   ],
   "source": [
    "df_journals.describe()"
   ]
  },
  {
   "cell_type": "markdown",
   "metadata": {},
   "source": [
    "您将使用 25%、50% 和 75% 百分位数（或四分位数）作为准则来删除异常值。\n",
    "\n",
    "对于每个特征，您将删除四分位数范围 (IQR) 之外的所有数据点，其中：\n",
    "\n",
    "$$IQR = 75\\% \\space quartile - 25\\% \\space quartile$$\n",
    "$$Lower \\space Threshold = 50\\% \\space percentile - 1.5 * IQR$$\n",
    "$$Upper \\space Threshold = 50\\% \\space percentile + 1.5 * IQR$$\n",
    "\n",
    "NumPy 软件包的 `percentile` 函数（[文档](https://docs.scipy.org/doc/numpy/reference/generated/numpy.percentile.html?highlight=percentile#numpy.percentile)）可以帮助您获取阈值。"
   ]
  },
  {
   "cell_type": "markdown",
   "metadata": {},
   "source": [
    ">### 问题 5（可选）\n",
    ">#### 尝试\n",
    ">** 这个问题是可选的，不会计入评分**，但这是锻炼好奇心的好方法!\n",
    "\n",
    "> 使用 NumPy **percentile** 函数实施以下算法。"
   ]
  },
  {
   "cell_type": "markdown",
   "metadata": {},
   "source": [
    "#### 修复\n",
    "对“citation_count_sum”特征执行以下操作：\n",
    "+ 使用上面的准则和 **percentile** 函数计算每个特征的阈值。\n",
    "+ 删除每个特征存在的超出此范围的异常值。\n",
    "+ 再次绘制箱线图以查看结果。\n",
    "+ 在删除前后使用 **shape** 命令查看删除了多少行。"
   ]
  },
  {
   "cell_type": "code",
   "execution_count": 23,
   "metadata": {},
   "outputs": [
    {
     "name": "stdout",
     "output_type": "stream",
     "text": [
      "Number of samples before: 3615\n",
      "Number of samples after: 3066\n"
     ]
    },
    {
     "data": {
      "image/png": "[encoded data removed]",
      "text/plain": [
       "<Figure size 432x288 with 1 Axes>"
      ]
     },
     "metadata": {},
     "output_type": "display_data"
    }
   ],
   "source": [
    "# 在此处输入代码\n",
    "print(\"Number of samples before: {}\".format(df_journals.shape[0]))\n",
    "# Save the quartiles\n",
    "citation_count_sum_25 = np.percentile(df_journals['citation_count_sum'], 25)\n",
    "citation_count_sum_50 = np.percentile(df_journals['citation_count_sum'], 50)\n",
    "citation_count_sum_75 = np.percentile(df_journals['citation_count_sum'], 75)\n",
    "\n",
    "# Calculate the thresholds\n",
    "IQR_citation_count_sum = citation_count_sum_75 - citation_count_sum_25\n",
    "Lower_Limit = citation_count_sum_50 - IQR_citation_count_sum * 1.5\n",
    "Upper_Limit = citation_count_sum_50 + IQR_citation_count_sum * 1.5\n",
    "\n",
    "# Remove the outliers\n",
    "df_journals = df_journals.loc[(df_journals['citation_count_sum'] > Lower_Limit) &amp;\n",
    "                              (df_journals['citation_count_sum'] &lt; Upper_Limit)]\n",
    "df_journals.boxplot([\"citation_count_sum\"])\n",
    "print(\"Number of samples after: {}\".format(df_journals.shape[0]))"
   ]
  },
  {
   "cell_type": "markdown",
   "metadata": {},
   "source": [
    "#### 了解\n",
    "非常好！ 您已成功删除了异常值。"
   ]
  },
  {
   "cell_type": "markdown",
   "metadata": {},
   "source": [
    "## 相关性：多变量统计\n",
    "#### 尝试\n",
    "对所有特征使用相关矩阵，为数据集中数值特征的每种组合绘制散点图。"
   ]
  },
  {
   "cell_type": "code",
   "execution_count": 24,
   "metadata": {},
   "outputs": [
    {
     "data": {
      "text/plain": [
       "<seaborn.axisgrid.PairGrid at 0x7f9f9d881550>"
      ]
     },
     "execution_count": 24,
     "metadata": {},
     "output_type": "execute_result"
    },
    {
     "data": {
      "image/png": "[encoded data removed]",
      "text/plain": [
       "<Figure size 720x720 with 20 Axes>"
      ]
     },
     "metadata": {},
     "output_type": "display_data"
    }
   ],
   "source": [
    "sns.set(style=\"whitegrid\", context=\"notebook\")\n",
    "sns.pairplot(df_journals[[\"citation_count_sum\", \"paper_count_sum\",\n",
    "                        \"avg_cites_per_paper\",\"proj_ai\"]])"
   ]
  },
  {
   "cell_type": "markdown",
   "metadata": {},
   "source": [
    "#### 是否损坏？\n",
    "有一个高度相关的特征。"
   ]
  },
  {
   "cell_type": "markdown",
   "metadata": {},
   "source": [
    "#### 了解\n",
    "可以看到，proj_ai x avg_cites_per_paper 之间存在很强的非线性相关性，\n",
    "其他变量之间也存在一些相关性。\n",
    "但我们需要数字来决定是否删除一些高度相关的特征。\n",
    "所以，具有值的热图非常有帮助。"
   ]
  },
  {
   "cell_type": "markdown",
   "metadata": {},
   "source": [
    "> ### 问题 6\n",
    "> #### 尝试\n",
    "> 在 df_journal dataframe 中使用 `corr` 函数（[文档](https://pandas.pydata.org/pandas-docs/stable/reference/api/pandas.DataFrame.corr.html?highlight=corr#pandas.DataFrame.corr)）来打印相关性。"
   ]
  },
  {
   "cell_type": "code",
   "execution_count": 25,
   "metadata": {},
   "outputs": [
    {
     "data": {
      "text/html": [
       "<div>\n",
       "<style scoped>\n",
       "    .dataframe tbody tr th:only-of-type {\n",
       "        vertical-align: middle;\n",
       "    }\n",
       "\n",
       "    .dataframe tbody tr th {\n",
       "        vertical-align: top;\n",
       "    }\n",
       "\n",
       "    .dataframe thead th {\n",
       "        text-align: right;\n",
       "    }\n",
       "</style>\n",
       "<table border=\"1\" class=\"dataframe\">\n",
       "  <thead>\n",
       "    <tr style=\"text-align: right;\">\n",
       "      <th></th>\n",
       "      <th>citation_count_sum</th>\n",
       "      <th>paper_count_sum</th>\n",
       "      <th>avg_cites_per_paper</th>\n",
       "      <th>proj_ai</th>\n",
       "    </tr>\n",
       "  </thead>\n",
       "  <tbody>\n",
       "    <tr>\n",
       "      <th>citation_count_sum</th>\n",
       "      <td>1.000000</td>\n",
       "      <td>0.726903</td>\n",
       "      <td>0.461533</td>\n",
       "      <td>0.412112</td>\n",
       "    </tr>\n",
       "    <tr>\n",
       "      <th>paper_count_sum</th>\n",
       "      <td>0.726903</td>\n",
       "      <td>1.000000</td>\n",
       "      <td>-0.027235</td>\n",
       "      <td>-0.042036</td>\n",
       "    </tr>\n",
       "    <tr>\n",
       "      <th>avg_cites_per_paper</th>\n",
       "      <td>0.461533</td>\n",
       "      <td>-0.027235</td>\n",
       "      <td>1.000000</td>\n",
       "      <td>0.987752</td>\n",
       "    </tr>\n",
       "    <tr>\n",
       "      <th>proj_ai</th>\n",
       "      <td>0.412112</td>\n",
       "      <td>-0.042036</td>\n",
       "      <td>0.987752</td>\n",
       "      <td>1.000000</td>\n",
       "    </tr>\n",
       "  </tbody>\n",
       "</table>\n",
       "</div>"
      ],
      "text/plain": [
       "                     citation_count_sum  paper_count_sum  avg_cites_per_paper  \\\n",
       "citation_count_sum   1.000000            0.726903         0.461533              \n",
       "paper_count_sum      0.726903            1.000000        -0.027235              \n",
       "avg_cites_per_paper  0.461533           -0.027235         1.000000              \n",
       "proj_ai              0.412112           -0.042036         0.987752              \n",
       "\n",
       "                      proj_ai  \n",
       "citation_count_sum   0.412112  \n",
       "paper_count_sum     -0.042036  \n",
       "avg_cites_per_paper  0.987752  \n",
       "proj_ai              1.000000  "
      ]
     },
     "execution_count": 25,
     "metadata": {},
     "output_type": "execute_result"
    }
   ],
   "source": [
    "# 在此处输入代码\n",
    "corr = df_journals.corr()\n",
    "corr"
   ]
  },
  {
   "cell_type": "markdown",
   "metadata": {},
   "source": [
    "##### 学习\n",
    "请注意，对角线始终为 1（一），因为它表示针对自身的变量。\n",
    "\n",
    "##### 是否损坏？\n",
    "**proj_ai** 和 **avg_cites_per_paper** 变量高度相关（高于 99%）。\n",
    "\n",
    "#### 修复\n",
    "我们来尝试删除其中一个特征。您将从数据集中删除 **proj_ai** 特征。"
   ]
  },
  {
   "cell_type": "code",
   "execution_count": 26,
   "metadata": {},
   "outputs": [],
   "source": [
    "del df_journals[\"proj_ai\"]"
   ]
  },
  {
   "cell_type": "markdown",
   "metadata": {},
   "source": [
    "#### 了解\n",
    "现在，使用另一个很棒的工具，即 `heatmap`（[文档](https://pandas.pydata.org/pandas-docs/stable/reference/api/pandas.DataFrame.corr.html?highlight=corr#pandas.DataFrame.corr)），在删除相关之后确认变量与目标之间的相关性。"
   ]
  },
  {
   "cell_type": "code",
   "execution_count": 27,
   "metadata": {},
   "outputs": [
    {
     "data": {
      "image/png": "[encoded data removed]",
      "text/plain": [
       "<Figure size 432x288 with 2 Axes>"
      ]
     },
     "metadata": {},
     "output_type": "display_data"
    }
   ],
   "source": [
    "corr = df_journals.corr()\n",
    "ax = sns.heatmap(corr, annot=True,)"
   ]
  },
  {
   "cell_type": "markdown",
   "metadata": {},
   "source": [
    "## 总结\n",
    "\n",
    "在本练习中，您练习了多种了解数据的方法。\n",
    "\n",
    "您从多个方面和角度了解了您的数据，将原始数据转换为已处理数据的状态，以供模型使用。\n",
    "\n",
    "您查看了一个简短的业务场景和相应的数据集，使用描述性统计信息对数据进行了分析，以便更好地了解数据。\n",
    "\n",
    "您使用了可视化工具（包括箱线图以及直方图）来支持此分析并了解数据的分布。在散点图的帮助下，您应用了多变量统计信息以发现特征之间的相关性。\n",
    "\n",
    "在**问题 1** 中，您发现了粗略浏览数据的重要性，查看了特征的数量以及样本的数量。您查看了第一行，看是否有什么需要注意的内容，例如缺失值。\n",
    "\n",
    "在**问题 2** 中，您学习并练习了如何决定是删除还是替换缺失值。在替换缺失值部分，您练习了如何处理数字替换或分类替换。\n",
    "\n",
    "**问题 3** 帮您了解了可以应用于您数据的基本统计信息。您练习了绘制特征的分布。\n",
    "\n",
    "在**问题 4** 中，您练习了另一个重要的数字特征图：箱线图。这是一个非常棒的工具，可用于发现异常值。\n",
    "\n",
    "**问题 5** 向您展示了一个有趣的指南，指导您使用百分位数删除异常值。您尝试实施了该算法。\n",
    "\n",
    "最后，在**问题 6** 中，您了解并练习了使用多变量技术（如相关矩阵和散点图）来发现特征之间的相关性，以及如何进行处理。"
   ]
  },
  {
   "cell_type": "markdown",
   "metadata": {},
   "source": [
    "### 做得好！\n",
    "现在，您已经清理了数据集，并已做好准备，可以进入建模步骤。\n"
   ]
  }
 ],
 "metadata": {
  "kernelspec": {
   "display_name": "conda_python3",
   "language": "python",
   "name": "conda_python3"
  },
  "language_info": {
   "codemirror_mode": {
    "name": "ipython",
    "version": 3
   },
   "file_extension": ".py",
   "mimetype": "text/x-python",
   "name": "python",
   "nbconvert_exporter": "python",
   "pygments_lexer": "ipython3",
   "version": "3.6.5"
  }
 },
 "nbformat": 4,
 "nbformat_minor": 2
}
