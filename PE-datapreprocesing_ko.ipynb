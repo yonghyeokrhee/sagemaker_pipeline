{
 "cells": [
  {
   "cell_type": "markdown",
   "metadata": {},
   "source": [
    "# 연습 – 전처리\n",
    "\n",
    "전처리에서 첫 번째 규칙은 **데이터를 알아야 한다!**입니다.\n",
    "\n",
    "따라서 몇 가지 차원과 뷰에 걸쳐 데이터를 탐색하여 원시 데이터를 모형에 사용할 수 있는 처리된 데이터 상태로 만들 것입니다.\n",
    "\n",
    "**TBLF** 접근 방식이 권장됩니다.\n",
    "+**시도(Try):** 문제 탐색(이 경우는 데이터 탐색)\n",
    "+**손상(Broken)?:** 무엇이 손상되었나요? (데이터에 문제가 있나요?)\n",
    "+**학습(Learn):** 잘못된 이유는 무엇일까요? (이 데이터에 무슨 문제가 있나요? 어떻게 해결할 수 있나요?)\n",
    "+**해결(Fix):** 문제 해결(잘못된 데이터를 수용 가능한 솔루션으로 가져오려면 어떻게 해야 할까요?)"
   ]
  },
  {
   "cell_type": "markdown",
   "metadata": {},
   "source": [
    "## 비즈니스 시나리오\n",
    "여러분은 회사가 새로운 기계 학습 모형에서 사용하고자 하는 데이터의 전처리를 담당하게 됩니다. 이 모형은 연구원, 웹 스크래핑 및 게시자 자체를 비롯하여 다양한 출처에서 나온 저널/게시 정보를 바탕으로 저널의 평균 영향을 예측하는 데 사용됩니다.\n",
    "\n",
    "여러분은 해결해야 할 비즈니스 문제와 관련된 원시 데이터를 받았습니다. 몇 가지 기술 통계를 사용하여 데이터를 더 잘 이해하는 것이 여러분의 과제입니다. 데이터를 이해한 후에는 데이터를 정제하고 재구성하게 됩니다. 모형에서는 최종 처리된 데이터 집합을 사용합니다. "
   ]
  },
  {
   "cell_type": "markdown",
   "metadata": {},
   "source": [
    "## 학습 목표\n",
    "1. 기술 통계를 사용하여 데이터를 분석함으로써 비즈니스 시나리오 및 해당 데이터 집합 이해\n",
    "2. 시각화 도구를 사용하여 다음 분석을 지원: \n",
    "    - 특성 간 상관 관계를 찾기 위한 산점도 \n",
    "    - 데이터의 분포를 이해하기 위한 상자 수염 플롯 및 히스토그램\n",
    "3. 통계 도구를 사용하여 이전 분석 지원(예: 이러한 관계를 정량화하기 위한 상관 행렬)\n",
    "4. 분석 결론에 따라 다음을 수행하여 모형을 위해 처리된 데이터 집합 준비:\n",
    "    - 이상치 처리 \n",
    "    - 결측치 처리\n",
    "    - 데이터 정제"
   ]
  },
  {
   "cell_type": "code",
   "execution_count": null,
   "metadata": {},
   "outputs": [],
   "source": [
    "import pandas as pd\n",
    "import numpy as np\n",
    "from matplotlib import pyplot as plt\n",
    "import seaborn as sns\n",
    "%matplotlib inline\n",
    "pd.set_option('display.max_colwidth', -1)"
   ]
  },
  {
   "cell_type": "markdown",
   "metadata": {},
   "source": [
    "## 데이터 집합 \n",
    "데이터는 연구원, 웹 스크래핑 및 게시자 자체 등 다양한 출처에서 나옵니다. 데이터는 이 전처리 작업에 적합하도록 조작되었습니다."
   ]
  },
  {
   "cell_type": "markdown",
   "metadata": {},
   "source": [
    "## 데이터 스키마\n",
    "예상 기사 영향 점수가 포함된 저널/게시자 정보에 대한 데이터 집합:\n",
    "+ journal_name: 저널 이름\n",
    "+ issn: 고유 게시 코드\n",
    "+ citation_count_sum: 각 저널의 인용문 수 합계 \n",
    "+ paper_count_sum: 각 저널의 논문 수 합계\n",
    "+ avg_cites_per_paper: 논문당 인용문 수 평균\n",
    "+ ranking: 본 연습용으로 생성된 인공 레이블(가능 값: A, B, C, D)\n",
    "+ proj_ai: 예상되는 평균 영향"
   ]
  },
  {
   "cell_type": "markdown",
   "metadata": {},
   "source": [
    "파일을 로드하는 것으로 시작합니다."
   ]
  },
  {
   "cell_type": "code",
   "execution_count": null,
   "metadata": {},
   "outputs": [],
   "source": [
    "df_journals = pd.read_csv(\"estimated-article-influence-scores-Exerc2.csv\", sep=\";\")\n",
    "del df_journals[\"Unnamed: 0\"]"
   ]
  },
  {
   "cell_type": "markdown",
   "metadata": {},
   "source": [
    "## 데이터의 첫 탐색\n",
    "\n",
    "#### 학습(Learn)\n",
    "몇 가지 특성이 있나요?"
   ]
  },
  {
   "cell_type": "code",
   "execution_count": null,
   "metadata": {},
   "outputs": [],
   "source": [
    "print(\"Number of features: {}\".format(df_journals.shape[1]))"
   ]
  },
  {
   "cell_type": "markdown",
   "metadata": {},
   "source": [
    "샘플은 몇 개나 있나요?"
   ]
  },
  {
   "cell_type": "code",
   "execution_count": null,
   "metadata": {},
   "outputs": [],
   "source": [
    "print(\"Number of samples: {}\".format(df_journals.shape[0]))"
   ]
  },
  {
   "cell_type": "markdown",
   "metadata": {},
   "source": [
    "> ### 질문 1\n",
    "> #### 시도(Try)\n",
    "> 처음 10개 행을 인쇄하여 데이터의 형태를 확인합니다. 데이터 집합에 `head` 함수([설명서](https://pandas.pydata.org/pandas-docs/stable/reference/api/pandas.DataFrame.head.html?highlight=head#pandas.DataFrame.head))를 적용합니다."
   ]
  },
  {
   "cell_type": "code",
   "execution_count": null,
   "metadata": {},
   "outputs": [],
   "source": [
    "# 여기에 코드 입력\n",
    "df_journals.head(10)"
   ]
  },
  {
   "cell_type": "markdown",
   "metadata": {},
   "source": [
    "## 결측치 처리\n",
    "#### 학습(Learn)\n",
    "각 열에서 결측치가 몇 개인지 확인합니다."
   ]
  },
  {
   "cell_type": "markdown",
   "metadata": {},
   "source": [
    "**isnull()** 명령은 값이 누락된 데이터 집합의 각 셀에 대해 **True**를 반환합니다."
   ]
  },
  {
   "cell_type": "code",
   "execution_count": null,
   "metadata": {},
   "outputs": [],
   "source": [
    "df_journals.isnull().head(10)"
   ]
  },
  {
   "cell_type": "markdown",
   "metadata": {},
   "source": [
    "#### 손상되었나요(Broken)?\n",
    "이 시각화는 대규모 데이터 집합에는 적합하지 않습니다. 각 열의 모든 행을 합산해 볼 수 있습니다. 위의 모든 값은 부울이므로 열(특성)을 기준으로 합산하면 **true** 값의 합계(각 특성의 결측치 수)가 생성됩니다."
   ]
  },
  {
   "cell_type": "markdown",
   "metadata": {},
   "source": [
    "> ### 질문 2\n",
    "> #### 해결(Fix)\n",
    "> 위와 같이 **.isnull()** 함수를 데이터 집합에 적용하되 결과를**.sum()** 함수와 연결하여 각 특성의 결측치 수를 표시합니다.<br/>\n",
    "\n",
    ">`isnull`([설명서](https://pandas.pydata.org/pandas-docs/stable/reference/api/pandas.DataFrame.isnull.html?highlight=isnull#pandas.DataFrame.isnull))<br/>\n",
    ">`sum`([설명서](https://pandas.pydata.org/pandas-docs/stable/reference/api/pandas.DataFrame.sum.html?highlight=sum#pandas.DataFrame.sum))"
   ]
  },
  {
   "cell_type": "code",
   "execution_count": null,
   "metadata": {},
   "outputs": [],
   "source": [
    "# 여기에 코드 입력\n",
    "df_journals.isnull().sum()"
   ]
  },
  {
   "cell_type": "markdown",
   "metadata": {},
   "source": [
    "#### 학습(Learn)\n",
    "데이터 집합에 결측치가 있음을 확인했습니다."
   ]
  },
  {
   "cell_type": "markdown",
   "metadata": {},
   "source": [
    "결측치는 중요한 문제입니다. 대부분의 모형은 결측치를 잘 처리하지 못합니다.\n",
    "\n",
    "결측치를 제거하거나 다른 값으로 대치할 수 있습니다. 훈련 작업에서 특정 특성의 중요성, 해당 결측치를 제거해도 문제가 없는지 등에 따라 각 선택에는 장단점이 있습니다.\n",
    "\n",
    "다음 명령은 `any`([설명서](https://pandas.pydata.org/pandas-docs/stable/reference/api/pandas.DataFrame.any.html?highlight=any#pandas.DataFrame.any)) 결측치가 있는 행만 필터링합니다. 처음 10개 행이 표시됩니다."
   ]
  },
  {
   "cell_type": "code",
   "execution_count": null,
   "metadata": {},
   "outputs": [],
   "source": [
    "df_journals_null_data = df_journals[df_journals.isnull().any(axis=1)]\n",
    "df_journals_null_data.head(10)"
   ]
  },
  {
   "cell_type": "markdown",
   "metadata": {},
   "source": [
    "## 결측치 처리\n",
    "#### 해결(Fix)\n",
    "결측치가 있는 행을 제거하기로 결정했다고 가정해 보겠습니다.\n",
    "\n",
    "`dropna` 함수([설명서](https://pandas.pydata.org/pandas-docs/stable/reference/api/pandas.DataFrame.dropna.html?highlight=dropna#pandas.DataFrame.dropna))를 데이터 집합에 적용하여 결측치를 제거합니다. 결과를 **df_journals_no_miss**라는 새 데이터 집합에 저장합니다. 그런 다음 `shape` 함수([설명서](https://pandas.pydata.org/pandas-docs/stable/reference/api/pandas.DataFrame.shape.html?highlight=shape#pandas.DataFrame.shape))를 사용하여 데이터 집합의 행이 줄어들었는지 확인합니다."
   ]
  },
  {
   "cell_type": "markdown",
   "metadata": {},
   "source": [
    "#### 학습(Learn)\n",
    "행이 몇 개나 남았나요?"
   ]
  },
  {
   "cell_type": "code",
   "execution_count": null,
   "metadata": {},
   "outputs": [],
   "source": [
    "df_journals_no_miss = df_journals.dropna()\n",
    "df_journals_no_miss.shape"
   ]
  },
  {
   "cell_type": "markdown",
   "metadata": {},
   "source": [
    "#### 학습(Learn)\n",
    "결측치를 모두 제거했는지 확인합니다."
   ]
  },
  {
   "cell_type": "code",
   "execution_count": null,
   "metadata": {},
   "outputs": [],
   "source": [
    "df_journals_no_miss.isna().any()"
   ]
  },
  {
   "cell_type": "markdown",
   "metadata": {},
   "source": [
    "이제 결측치가 있는 행을 제거할 수 없다고 가정하겠습니다. 그러지 않아도 작은 데이터 집합을 더 줄이고 싶지 않을 수도 있습니다. "
   ]
  },
  {
   "cell_type": "markdown",
   "metadata": {},
   "source": [
    "## 수치형 값 대치\n",
    "#### 학습(Learn)\n",
    "수치형 값을 대치하는 한 가지 방법은 특성(열) 값의 평균을 고려하는 것입니다. 다음 명령은 데이터 집합에 있는 모든 수치형 특성의 평균을 계산합니다."
   ]
  },
  {
   "cell_type": "code",
   "execution_count": null,
   "metadata": {},
   "outputs": [],
   "source": [
    "citation_count_sum_MEAN = df_journals[\"citation_count_sum\"].mean()\n",
    "paper_count_sum_MEAN = df_journals[\"paper_count_sum\"].mean()\n",
    "avg_cites_per_paper_MEAN = df_journals[\"avg_cites_per_paper\"].mean()\n",
    "proj_ai_MEAN = df_journals[\"proj_ai\"].mean()\n",
    "print(\"citation_count_sum_MEAN: {}\".format(citation_count_sum_MEAN))\n",
    "print(\"paper_count_sum_MEAN: {}\".format(paper_count_sum_MEAN))\n",
    "print(\"avg_cites_per_paper_MEAN: {}\".format(avg_cites_per_paper_MEAN))\n",
    "print(\"proj_ai_MEAN: {}\".format(proj_ai_MEAN))"
   ]
  },
  {
   "cell_type": "markdown",
   "metadata": {},
   "source": [
    "다음 명령은 각 결측치를 특성의 계산된 평균으로 업데이트합니다.\n",
    "\n",
    "**참고:** `inplace` 절([설명서](https://pandas.pydata.org/pandas-docs/stable/reference/api/pandas.DataFrame.fillna.html?highlight=fillna#pandas.DataFrame.fillna))에서는 업데이트가 원래 데이터 집합에 적용되므로 결과를 새 데이터 집합에 할당할 필요가 없습니다."
   ]
  },
  {
   "cell_type": "code",
   "execution_count": null,
   "metadata": {},
   "outputs": [],
   "source": [
    "df_journals[\"citation_count_sum\"].fillna(citation_count_sum_MEAN, inplace=True)\n",
    "df_journals[\"paper_count_sum\"].fillna(paper_count_sum_MEAN, inplace=True)\n",
    "df_journals[\"avg_cites_per_paper\"].fillna(avg_cites_per_paper_MEAN, inplace=True)\n",
    "df_journals[\"proj_ai\"].fillna(proj_ai_MEAN, inplace=True)"
   ]
  },
  {
   "cell_type": "markdown",
   "metadata": {},
   "source": [
    "#### 학습(Learn)\n",
    "모든 수치형 값을 대치했는지 확인합니다. 그런 다음 범주형 값을 처리하겠습니다."
   ]
  },
  {
   "cell_type": "code",
   "execution_count": null,
   "metadata": {},
   "outputs": [],
   "source": [
    "df_journals.isna().any()"
   ]
  },
  {
   "cell_type": "markdown",
   "metadata": {},
   "source": [
    "## 범주형 값 대치\n",
    "#### 학습(Learn)\n",
    "범주형 값 대치의 경우 가장 빈도가 높은 값(모드)을 사용하는 것이 일반적인 방법입니다."
   ]
  },
  {
   "cell_type": "markdown",
   "metadata": {},
   "source": [
    "#### 시도(Try)\n",
    "\"ranking\" 특성에 어떤 값들이 가능한지 확인합니다.\n",
    "\n",
    "Pandas에는 범주형의 빈도를 인쇄하는 `value_counts`([설명서](https://pandas.pydata.org/pandas-docs/stable/reference/api/pandas.Series.value_counts.html?highlight=value_counts#pandas.Series.value_counts))라는 흥미로운 명령이 있습니다.\n",
    "\n",
    "이 명령을 데이터 집합의 특성에 적용하여 \"ranking\"의 범주형 분포를 확인합니다."
   ]
  },
  {
   "cell_type": "code",
   "execution_count": null,
   "metadata": {},
   "outputs": [],
   "source": [
    "df_journals[\"ranking\"].value_counts()"
   ]
  },
  {
   "cell_type": "markdown",
   "metadata": {},
   "source": [
    "이제 범주형 특성에 대한 가장 빈도가 높은 값을 확인합니다. `mode` 함수([설명서](https://pandas.pydata.org/pandas-docs/stable/reference/api/pandas.DataFrame.mode.html?highlight=mode#pandas.DataFrame.mode))를 사용하면 됩니다.\n",
    "\n",
    "**참고:** `df_journals[\"ranking\"]` 또는 `df_journals.ranking`을 사용하면 특성에 액세스할 수 있습니다."
   ]
  },
  {
   "cell_type": "code",
   "execution_count": null,
   "metadata": {},
   "outputs": [],
   "source": [
    "df_journals.ranking.mode()[0]"
   ]
  },
  {
   "cell_type": "markdown",
   "metadata": {},
   "source": [
    "#### 학습(Learn)\n",
    "이 명령은**D**를 가장 빈도가 높은 값(모드)으로 반환했습니다."
   ]
  },
  {
   "cell_type": "markdown",
   "metadata": {},
   "source": [
    "수치형 특성을 대치하는 데 사용한 것과 동일한 명령을 사용하여 가장 빈도가 높은 순위 **D**를 대치합니다."
   ]
  },
  {
   "cell_type": "code",
   "execution_count": null,
   "metadata": {},
   "outputs": [],
   "source": [
    "df_journals[\"ranking\"].fillna('D', inplace=True)"
   ]
  },
  {
   "cell_type": "markdown",
   "metadata": {},
   "source": [
    "#### 학습(Learn)\n",
    "이제 다음 명령을 실행하여 null 값이 남아 있는지 확인합니다. 이제는 **False** 값만 있어야 합니다."
   ]
  },
  {
   "cell_type": "code",
   "execution_count": null,
   "metadata": {},
   "outputs": [],
   "source": [
    "df_journals.isna().any()"
   ]
  },
  {
   "cell_type": "markdown",
   "metadata": {},
   "source": [
    "#### 학습(Learn)\n",
    "결측치가 D로 변환되도록 하려면**value_counts()** 명령은 범주형 값 **D**의 새로운 개수가 원래 개수와 null 값 수의 합계라는 것을 반영해야 합니다."
   ]
  },
  {
   "cell_type": "code",
   "execution_count": null,
   "metadata": {},
   "outputs": [],
   "source": [
    "df_journals[\"ranking\"].value_counts()"
   ]
  },
  {
   "cell_type": "markdown",
   "metadata": {},
   "source": [
    "#### 손상되었나요(Broken)?\n",
    "불균형 레이블은 레이블 간 분포가 일부 레이블의 빈도를 다른 레이블보다 훨씬 높게 표시할 때 발생합니다. 이 데이터 집합에는 해당하지 않습니다."
   ]
  },
  {
   "cell_type": "markdown",
   "metadata": {},
   "source": [
    "## 수치형 값에 대한 기본 통계\n",
    "#### 분포 탐색\n",
    "##### 시도(Try)\n",
    "각 열의 최소값, 최대값, 평균, 표준편차, 25% 백분위수 및 75% 백분위수를 계산합니다. `describe` 명령([설명서](https://pandas.pydata.org/pandas-docs/stable/reference/api/pandas.DataFrame.describe.html?highlight=describe#pandas.DataFrame.describe))을 사용하면 됩니다."
   ]
  },
  {
   "cell_type": "code",
   "execution_count": null,
   "metadata": {},
   "outputs": [],
   "source": [
    "df_journals.describe()"
   ]
  },
  {
   "cell_type": "markdown",
   "metadata": {},
   "source": [
    ">### 질문 3\n",
    "\"avg_cites_per_paper\" 특성의 분포를 표시합니다. matplotlib의 `.plot.hist(bins=100)` 함수를 사용하여 각 특성의 분포를 표시합니다.\n",
    "\n",
    ">`hist`([설명서](https://matplotlib.org/3.1.1/api/_as_gen/matplotlib.pyplot.hist.html?highlight=hist#matplotlib.pyplot.hist))"
   ]
  },
  {
   "cell_type": "code",
   "execution_count": null,
   "metadata": {},
   "outputs": [],
   "source": [
    "# 여기에 코드 입력\n",
    "df_journals[\"avg_cites_per_paper\"].plot.hist(bins=100)"
   ]
  },
  {
   "cell_type": "markdown",
   "metadata": {},
   "source": [
    "## 상자 수염 플롯\n",
    "상자 수염 플롯은 이상치를 식별하는 데 유용합니다. 상자 수염 플롯을 사용하여 살펴보겠습니다."
   ]
  },
  {
   "cell_type": "markdown",
   "metadata": {},
   "source": [
    ">### 질문 4\n",
    ">#### 시도(Try)\n",
    "> 분포를 표시한 것과 동일한 방법으로 이제 수치형 특성 \"avg_cites_per_paper\"에 대해 `boxplot` 함수([설명서](https://matplotlib.org/3.1.1/api/_as_gen/matplotlib.pyplot.boxplot.html?highlight=boxplot#matplotlib.pyplot.boxplot))를 사용하여 상자 수염 플롯을 만듭니다. "
   ]
  },
  {
   "cell_type": "code",
   "execution_count": null,
   "metadata": {},
   "outputs": [],
   "source": [
    "# 여기에 코드 입력\n",
    "df_journals.boxplot([\"avg_cites_per_paper\"])"
   ]
  },
  {
   "cell_type": "markdown",
   "metadata": {},
   "source": [
    "#### 학습(Learn) \n",
    "상자 수염 플롯은 이상치를 찾는 데 도움이 됩니다."
   ]
  },
  {
   "cell_type": "markdown",
   "metadata": {},
   "source": [
    "#### 학습(Learn)\n",
    "이제 보다 흥미로운 기법인 백분위수를 사용하여 이상치를 제거해 보겠습니다.\n",
    "\n",
    "데이터 집합에 있는 수치형 값의 백분위수를 인쇄하려면 **.describe()** 명령을 사용합니다."
   ]
  },
  {
   "cell_type": "code",
   "execution_count": null,
   "metadata": {},
   "outputs": [],
   "source": [
    "df_journals.describe()"
   ]
  },
  {
   "cell_type": "markdown",
   "metadata": {},
   "source": [
    "25%, 50% 및 75% 백분위수(또는 사분위수)를 지침으로 사용하여 이상치를 제거합니다.\n",
    "\n",
    "각 특성에 대해 다음과 같이 사분위수 범위(IQR)를 벗어나는 모든 데이터 포인트를 제거합니다.\n",
    "\n",
    "$$IQR = 75\\% \\space quartile - 25\\% \\space quartile$$\n",
    "$$Lower \\space Threshold = 50\\% \\space percentile - 1.5 * IQR$$\n",
    "$$Upper \\space Threshold = 50\\% \\space percentile + 1.5 * IQR$$\n",
    "\n",
    "NumPy 패키지에는 임계값을 가져오는 데 도움이 되는 `percentile` 함수([설명서](https://docs.scipy.org/doc/numpy/reference/generated/numpy.percentile.html?highlight=percentile#numpy.percentile))가 있습니다."
   ]
  },
  {
   "cell_type": "markdown",
   "metadata": {},
   "source": [
    ">### 질문 5(선택 사항)\n",
    ">##### 시도(Try)\n",
    ">**이 질문은 선택 사항이며 점수가 매겨지지 않습니다.** 하지만 궁금한 부분을 연습할 수 있는 좋은 방법입니다.\n",
    "\n",
    ">NumPy **percentile** 함수를 사용하여 다음 알고리즘을 구현합니다. "
   ]
  },
  {
   "cell_type": "markdown",
   "metadata": {},
   "source": [
    "#### 해결(Fix)\n",
    "\"citation_count_sum\" 특성에 대해 다음을 수행합니다.\n",
    "+ 위의 지침과 **percentile** 함수를 사용하여 각 특성에 대한 임계값을 계산합니다.\n",
    "+ 각 특성에 대해 이 범위를 벗어나는 이상치를 제거합니다.\n",
    "+ 상자 수염 플롯을 다시 그려 결과를 확인합니다.\n",
    "+ 제거 전후에 **shape** 명령을 사용하여 제거된 행의 수를 확인합니다."
   ]
  },
  {
   "cell_type": "code",
   "execution_count": null,
   "metadata": {},
   "outputs": [],
   "source": [
    "# 여기에 코드 입력\n",
    "print(\"Number of samples before: {}\".format(df_journals.shape[0]))\n",
    "# 사분위수 저장\n",
    "citation_count_sum_25 = np.percentile(df_journals['citation_count_sum'], 25)\n",
    "citation_count_sum_50 = np.percentile(df_journals['citation_count_sum'], 50)\n",
    "citation_count_sum_75 = np.percentile(df_journals['citation_count_sum'], 75)\n",
    "\n",
    "# 임계값 계산\n",
    "IQR_citation_count_sum = citation_count_sum_75 - citation_count_sum_25\n",
    "Lower_Limit = citation_count_sum_50 - IQR_citation_count_sum * 1.5\n",
    "Upper_Limit = citation_count_sum_50 + IQR_citation_count_sum * 1.5\n",
    "\n",
    "# 이상치 제거\n",
    "df_journals = df_journals.loc[(df_journals['citation_count_sum'] > Lower_Limit) &\n",
    "                              (df_journals['citation_count_sum'] < Upper_Limit)]\n",
    "df_journals.boxplot([\"citation_count_sum\"])\n",
    "print(\"Number of samples after: {}\".format(df_journals.shape[0]))"
   ]
  },
  {
   "cell_type": "markdown",
   "metadata": {},
   "source": [
    "#### 학습(Learn)\n",
    "잘하셨습니다! 이상치 제거에 성공했습니다."
   ]
  },
  {
   "cell_type": "markdown",
   "metadata": {},
   "source": [
    "## 상관 관계: 다변량 통계\n",
    "#### 시도(Try)\n",
    "모든 특성에 대해 상관 행렬을 사용하여 데이터 집합에 있는 수치형 특성의 각 조합에 대한 산점도를 표시합니다."
   ]
  },
  {
   "cell_type": "code",
   "execution_count": null,
   "metadata": {},
   "outputs": [],
   "source": [
    "sns.set(style=\"whitegrid\", context=\"notebook\")\n",
    "sns.pairplot(df_journals[[\"citation_count_sum\", \"paper_count_sum\",\n",
    "                        \"avg_cites_per_paper\",\"proj_ai\"]])"
   ]
  },
  {
   "cell_type": "markdown",
   "metadata": {},
   "source": [
    "#### 손상되었나요(Broken)?\n",
    "상관 관계가 높은 특성이 하나 있습니다."
   ]
  },
  {
   "cell_type": "markdown",
   "metadata": {},
   "source": [
    "#### 학습(Learn)\n",
    "proj_ai x avg_cites_per_paper 간에는 강한 비선형 상관 관계가 있습니다.\n",
    "또한 다른 변수들 사이에도 약간의 상관 관계가 있습니다.\n",
    "하지만 상관 관계가 높은 일부 특성을 제거할지 여부를 결정하려면 숫자가 필요합니다.\n",
    "이 경우 값이 있는 열 지도가 유용합니다."
   ]
  },
  {
   "cell_type": "markdown",
   "metadata": {},
   "source": [
    ">### 질문 6\n",
    ">##### 시도(Try)\n",
    ">df_journal 데이터 프레임의 `corr` 함수([설명서](https://pandas.pydata.org/pandas-docs/stable/reference/api/pandas.DataFrame.corr.html?highlight=corr#pandas.DataFrame.corr))를 사용하여 상관 관계를 인쇄합니다."
   ]
  },
  {
   "cell_type": "code",
   "execution_count": null,
   "metadata": {},
   "outputs": [],
   "source": [
    "# 여기에 코드 입력\n",
    "corr = df_journals.corr()\n",
    "corr"
   ]
  },
  {
   "cell_type": "markdown",
   "metadata": {},
   "source": [
    "##### 학습(Learn)\n",
    "대각선은 자신에 대한 변수를 나타내기 때문에 항상 1입니다.\n",
    "\n",
    "#### 손상되었나요(Broken)?\n",
    "***proj_ai** 및 **avg_cites_per_paper** 변수는 상관 관계가 매우 높습니다(99% 이상). \n",
    "\n",
    "##### 해결(Fix)\n",
    "그 중 하나를 제거해 보겠습니다. 데이터 집합에서 **proj_ai** 특성을 제거합니다."
   ]
  },
  {
   "cell_type": "code",
   "execution_count": null,
   "metadata": {},
   "outputs": [],
   "source": [
    "del df_journals[\"proj_ai\"]"
   ]
  },
  {
   "cell_type": "markdown",
   "metadata": {},
   "source": [
    "#### 학습(Learn)\n",
    "상관 관계를 제거한 후 이제 또 하나의 훌륭한 도구인 `열 지도`([설명서](https://pandas.pydata.org/pandas-docs/stable/reference/api/pandas.DataFrame.corr.html?highlight=corr#pandas.DataFrame.corr))를 사용하여 변수와 목표 간의 상관 관계를 확인합니다. "
   ]
  },
  {
   "cell_type": "code",
   "execution_count": null,
   "metadata": {},
   "outputs": [],
   "source": [
    "corr = df_journals.corr()\n",
    "ax = sns.heatmap(corr, annot=True,)"
   ]
  },
  {
   "cell_type": "markdown",
   "metadata": {},
   "source": [
    "## 결론\n",
    "\n",
    "이 연습에서는 데이터를 이해하기 위해 여러 가지 방법을 사용해 보았습니다.\n",
    "\n",
    "몇 가지 차원과 뷰에 걸쳐 데이터를 탐색하여 원시 데이터를 모형에 사용할 수 있는 처리된 데이터 상태로 만들었습니다.\n",
    "\n",
    "짧은 비즈니스 시나리오와 해당 데이터 집합을 이해해야 했습니다. 더 잘 이해하기 위해 기술 통계를 사용하여 데이터를 분석했습니다.\n",
    "\n",
    "이 분석을 지원하고 데이터 분포를 이해하기 위해 상자 수염 플롯과 히스토그램을 비롯한 시각화 도구를 사용했습니다. 산점도를 사용해 다변량 통계를 적용하여 특성 간 상관 관계를 찾아냈습니다.\n",
    "\n",
    "**질문 1**에서 데이터의 첫 탐색이 중요하다는 것을 알게 되었습니다. 특성이 몇 개인지, 샘플이 몇 개인지 살펴봤습니다. 첫 번째 줄을 살펴보면서 결측치와 같이 눈에 띄는 것이 없는지 확인했습니다.\n",
    "\n",
    "**질문 2**에서는 결측치를 제거할지 아니면 대치할지를 결정하는 방법을 배우고 연습했습니다. 대치할 경우 수치형 또는 범주형 대치를 처리하는 방법을 연습했습니다.\n",
    "\n",
    "**질문 3**을 통해 데이터에 적용할 수 있는 기본 통계를 이해했습니다. 특성 분포를 표시하는 방법을 연습했습니다.\n",
    "\n",
    "**질문 4**의 경우 상자 수염 플롯이라는 수치형 특성에 대한 또 다른 중요한 플롯을 연습했습니다. 이는 이상치를 식별하는 데 유용한 도구입니다. \n",
    "\n",
    "**질문 5**는 백분위수를 사용하여 이상치를 제거하는 흥미로운 지침을 보여 주었습니다. 알고리즘을 구현하는 과제가 주어졌습니다.\n",
    "\n",
    "마지막으로, **질문 6**에서는 상관 행렬 및 산점도와 같은 다변량 기법을 사용하여 특성 간의 상관 관계를 찾아내고 이를 처리하는 방법을 배우고 연습했습니다."
   ]
  },
  {
   "cell_type": "markdown",
   "metadata": {},
   "source": [
    "### 수고하셨어요!\n",
    "정제된 데이터 집합이 있으니 이제 모형화 단계로 넘어갈 준비가 되었습니다.\n"
   ]
  }
 ],
 "metadata": {
  "kernelspec": {
   "display_name": "conda_python3",
   "language": "python",
   "name": "conda_python3"
  },
  "language_info": {
   "codemirror_mode": {
    "name": "ipython",
    "version": 3
   },
   "file_extension": ".py",
   "mimetype": "text/x-python",
   "name": "python",
   "nbconvert_exporter": "python",
   "pygments_lexer": "ipython3",
   "version": "3.6.5"
  }
 },
 "nbformat": 4,
 "nbformat_minor": 2
}
